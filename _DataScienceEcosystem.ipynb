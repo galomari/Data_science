{
  "metadata": {
    "kernelspec": {
      "name": "python",
      "display_name": "Python (Pyodide)",
      "language": "python"
    },
    "language_info": {
      "codemirror_mode": {
        "name": "python",
        "version": 3
      },
      "file_extension": ".py",
      "mimetype": "text/x-python",
      "name": "python",
      "nbconvert_exporter": "python",
      "pygments_lexer": "ipython3",
      "version": "3.8"
    }
  },
  "nbformat_minor": 4,
  "nbformat": 4,
  "cells": [
    {
      "cell_type": "markdown",
      "source": "# H1: Data Science Tools and Ecosystem",
      "metadata": {}
    },
    {
      "cell_type": "markdown",
      "source": "# In this notebook, Data Science Tools and Ecosystem are summarized.",
      "metadata": {}
    },
    {
      "cell_type": "markdown",
      "source": "Data science tools and ecosystems are essential components of modern data-driven organizations, providing the necessary infrastructure and capabilities to analyze, visualize, and derive insights from data. The ecosystem encompasses a wide range of tools and technologies designed to support various stages of the data science workflow, from data acquisition and cleaning to model development, deployment, and monitoring.",
      "metadata": {}
    },
    {
      "cell_type": "markdown",
      "source": "## Some of the popular languages that Data Scientists use are:",
      "metadata": {}
    },
    {
      "cell_type": "markdown",
      "source": "* Python: Python is arguably the most popular language for data science due to its versatility, extensive libraries, and readability. Libraries like NumPy, Pandas, Matplotlib, Seaborn, scikit-learn, and TensorFlow make Python a go-to choice for data manipulation, visualization, machine learning, and deep learning.\n\n* R: R is another widely used language in data science, particularly in statistical analysis and data visualization. It provides a rich ecosystem of packages (e.g., ggplot2, dplyr, tidyr) that cater specifically to data manipulation, statistical modeling, and visualization.\n\n* SQL: While not a traditional programming language, SQL (Structured Query Language) is essential for working with relational databases. Data scientists frequently use SQL to extract, manipulate, and analyze data stored in databases, especially in scenarios involving structured data.\n\n* Julia: Julia is gaining popularity among data scientists for its high performance and ease of use, especially for numerical and scientific computing. It combines the syntax of high-level languages like Python with the speed of lower-level languages like C++.\n\n* MATLAB: MATLAB remains popular in academic and research settings, particularly in engineering and signal processing applications. It offers extensive numerical computing capabilities and toolboxes for various domains, including image processing and control systems.\n\n* Scala: Scala is often used in conjunction with Apache Spark, a popular framework for big data processing. Its functional programming capabilities and compatibility with Java make it suitable for distributed computing and data-intensive applications.",
      "metadata": {}
    },
    {
      "cell_type": "markdown",
      "source": "### Some of the commonly used libraries used by Data Scientists include:",
      "metadata": {}
    },
    {
      "cell_type": "markdown",
      "source": "1. NumPy: Fundamental package for numerical computing in Python. It provides support for large, multi-dimensional arrays and matrices, along with a collection of mathematical functions to operate on these arrays efficiently.\n\n2. Pandas: A powerful data manipulation and analysis library built on top of NumPy. Pandas provides data structures like DataFrame and Series, which simplify handling and analyzing structured data.\n\n3. Matplotlib: A popular plotting library that provides a MATLAB-like interface for creating static, animated, and interactive visualizations in Python. It is highly customizable and supports a wide range of plots and charts.\n\n\n4. scikit-learn: A simple and efficient tool for data mining and data analysis, built on NumPy, SciPy, and Matplotlib. scikit-learn provides a wide range of supervised and unsupervised learning algorithms, as well as utilities for model selection, evaluation, and preprocessing.\n\n5. TensorFlow / PyTorch: Deep learning frameworks that provide tools and libraries for building and training neural networks. TensorFlow is developed by Google and PyTorch by Facebook AI Research (FAIR). Both frameworks are widely used for tasks like image and speech recognition, natural language processing, and reinforcement learning.\n\n6. Keras: A high-level neural networks API, written in Python and capable of running on top of TensorFlow, CNTK, or Theano. Keras allows for fast experimentation and prototyping of deep learning models with a user-friendly interface.",
      "metadata": {}
    },
    {
      "cell_type": "markdown",
      "source": "### Data Science Tools",
      "metadata": {}
    },
    {
      "cell_type": "markdown",
      "source": "|data science tool|\n|-----------------|\n Jupyter Notebooks \n RStudio\n Python\n Apache Hadoop\n Apache Spark\n SQL Databases\n NoSQL Databases\n Git / GitHub",
      "metadata": {}
    },
    {
      "cell_type": "markdown",
      "source": "### Below are a few examples of evaluating arithmetic expressions in Python",
      "metadata": {}
    },
    {
      "cell_type": "code",
      "source": "# Addition\nresult_add = 10 + 5\nprint(\"Addition:\", result_add)\n\n# Subtraction\nresult_sub = 20 - 7\nprint(\"Subtraction:\", result_sub)\n\n# Multiplication\nresult_mul = 8 * 4\nprint(\"Multiplication:\", result_mul)\n\n# Division (float)\nresult_div = 15 / 3\nprint(\"Division (float):\", result_div)\n\n# Division (integer)\nresult_div_int = 15 // 4\nprint(\"Division (integer):\", result_div_int)\n\n# Exponentiation\nresult_exp = 2 ** 3\nprint(\"Exponentiation:\", result_exp)\n",
      "metadata": {
        "trusted": true
      },
      "outputs": [
        {
          "name": "stdout",
          "text": "Addition: 15\nSubtraction: 13\nMultiplication: 32\nDivision (float): 5.0\nDivision (integer): 3\nExponentiation: 8\n",
          "output_type": "stream"
        }
      ],
      "execution_count": 1
    },
    {
      "cell_type": "markdown",
      "source": "his a simple arithmetic expression to mutiply then add integers.",
      "metadata": {}
    },
    {
      "cell_type": "code",
      "source": "(3*4)+5",
      "metadata": {
        "trusted": true
      },
      "outputs": [
        {
          "execution_count": 2,
          "output_type": "execute_result",
          "data": {
            "text/plain": "17"
          },
          "metadata": {}
        }
      ],
      "execution_count": 2
    },
    {
      "cell_type": "code",
      "source": "# This will convert 200 minutes to hours by diving by 60.\nconv_min=200 // 60\nprint(conv_min)",
      "metadata": {
        "trusted": true
      },
      "outputs": [
        {
          "name": "stdout",
          "text": "3\n",
          "output_type": "stream"
        }
      ],
      "execution_count": 3
    },
    {
      "cell_type": "markdown",
      "source": "## Author \nghaith alomari",
      "metadata": {}
    },
    {
      "cell_type": "code",
      "source": "",
      "metadata": {
        "trusted": true
      },
      "outputs": [],
      "execution_count": null
    }
  ]
}